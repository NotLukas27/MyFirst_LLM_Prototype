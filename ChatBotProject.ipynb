{
  "nbformat": 4,
  "nbformat_minor": 0,
  "metadata": {
    "colab": {
      "provenance": [],
      "authorship_tag": "ABX9TyN591hZ4uHjMrcv3p4N81iz",
      "include_colab_link": true
    },
    "kernelspec": {
      "name": "python3",
      "display_name": "Python 3"
    },
    "language_info": {
      "name": "python"
    }
  },
  "cells": [
    {
      "cell_type": "markdown",
      "metadata": {
        "id": "view-in-github",
        "colab_type": "text"
      },
      "source": [
        "<a href=\"https://colab.research.google.com/github/NotLukas27/MyFirst_LLM_Prototype/blob/main/ChatBotProject.ipynb\" target=\"_parent\"><img src=\"https://colab.research.google.com/assets/colab-badge.svg\" alt=\"Open In Colab\"/></a>"
      ]
    },
    {
      "cell_type": "markdown",
      "source": [],
      "metadata": {
        "id": "8Zyefc2SjsYT"
      }
    },
    {
      "cell_type": "markdown",
      "source": [
        "**Instalando o SDK do Google**"
      ],
      "metadata": {
        "id": "nqeufRvJjt9r"
      }
    },
    {
      "cell_type": "code",
      "source": [
        "!pip install -U -q google-generativeai\n",
        "\n"
      ],
      "metadata": {
        "id": "RkRyxAXpi80z"
      },
      "execution_count": 10,
      "outputs": []
    },
    {
      "cell_type": "code",
      "source": [
        "import google.generativeai as genai\n",
        "from google.colab import userdata\n",
        "api_key = userdata.get('Secret_Key')\n",
        "genai.configure(api_key= api_key)\n",
        "import json\n",
        "import base64\n",
        "import pathlib\n",
        "import pprint\n",
        "import requests\n",
        "import mimetypes\n",
        "from IPython.display import Markdown"
      ],
      "metadata": {
        "id": "ovrOu6YOj6U6"
      },
      "execution_count": null,
      "outputs": []
    },
    {
      "cell_type": "markdown",
      "source": [
        "Importações essenciais para funcionar o **For**"
      ],
      "metadata": {
        "id": "693HBpc1qm8P"
      }
    },
    {
      "cell_type": "code",
      "source": [
        "from google.colab import userdata\n",
        "\n",
        "API_KEY=userdata.get = 'Cole sua API Key aqui'\n",
        "genai.configure(api_key=API_KEY)"
      ],
      "metadata": {
        "id": "TDW12x1SjlK9"
      },
      "execution_count": 72,
      "outputs": []
    },
    {
      "cell_type": "markdown",
      "source": [
        "Listar os Modelos Disponíveis do Gemini"
      ],
      "metadata": {
        "id": "JtS1HzuEkMyc"
      }
    },
    {
      "cell_type": "code",
      "source": [
        "for m in genai.list_models():\n",
        "  if \"generateContent\" in m.supported_generation_methods:\n",
        "    print(m.name)"
      ],
      "metadata": {
        "id": "v2DWr_2PkQ2T"
      },
      "execution_count": null,
      "outputs": []
    },
    {
      "cell_type": "markdown",
      "source": [
        "Configurações do Gemini"
      ],
      "metadata": {
        "id": "c1wu69d3rxVA"
      }
    },
    {
      "cell_type": "code",
      "source": [
        "generation_config = {\n",
        "    \"temperature\": 0.8\n",
        "}"
      ],
      "metadata": {
        "id": "zLlC49eJq7t9"
      },
      "execution_count": 49,
      "outputs": []
    },
    {
      "cell_type": "markdown",
      "source": [
        "Configuração de Segurança"
      ],
      "metadata": {
        "id": "eJ7RHVX9r1XK"
      }
    },
    {
      "cell_type": "code",
      "source": [
        "safety_settings = {\n",
        "    \"HARASSMENT\": \"BLOCK_NONE\",\n",
        "    \"HATE\": \"BLOCK_NONE\",\n",
        "    \"SEXUAL\": \"BLOCK_NONE\",\n",
        "    \"DANGEROUS\": \"BLOCK_NONE\"\n",
        "}"
      ],
      "metadata": {
        "id": "oGyRpznzrwSi"
      },
      "execution_count": 64,
      "outputs": []
    },
    {
      "cell_type": "markdown",
      "source": [
        "Iinicalizando o Modelo"
      ],
      "metadata": {
        "id": "BwkynnCltuC3"
      }
    },
    {
      "cell_type": "code",
      "source": [
        "model = genai.GenerativeModel(model_name = \"gemini-1.0-pro\",\n",
        "                              generation_config = generation_config,\n",
        "                              safety_settings = safety_settings)"
      ],
      "metadata": {
        "id": "fEde81mXttdT"
      },
      "execution_count": 65,
      "outputs": []
    },
    {
      "cell_type": "markdown",
      "source": [
        "Response"
      ],
      "metadata": {
        "id": "SEVIJ6pSvCBN"
      }
    },
    {
      "cell_type": "code",
      "source": [
        "response = model.generate_content(\"Bom dia, como você está?\")\n",
        "print(response.text)"
      ],
      "metadata": {
        "id": "nWXS9IK9vBCX"
      },
      "execution_count": null,
      "outputs": []
    },
    {
      "cell_type": "code",
      "source": [
        "chat = model.start_chat(history=[])"
      ],
      "metadata": {
        "id": "0mRRl0ei0TNp"
      },
      "execution_count": 54,
      "outputs": []
    },
    {
      "cell_type": "markdown",
      "source": [
        "Loop para respostas **consecutivas**"
      ],
      "metadata": {
        "id": "moI1G2U73bha"
      }
    },
    {
      "cell_type": "code",
      "source": [
        "prompt = input(\"Esperando texto: \")\n",
        "\n",
        "while prompt != 'fim':\n",
        "  response = chat.send_message(prompt)\n",
        "  print(\"Resposta: \", response.text, \"\\n\")\n",
        "  prompt = input('Esperando texto: ')"
      ],
      "metadata": {
        "id": "cHJzyB0q0yVc"
      },
      "execution_count": null,
      "outputs": []
    },
    {
      "cell_type": "markdown",
      "source": [
        "Histórico de chat **primitivo**"
      ],
      "metadata": {
        "id": "DUL8ppPI3W_z"
      }
    },
    {
      "cell_type": "code",
      "source": [
        "chat.history"
      ],
      "metadata": {
        "id": "4Kr1qLfj5DMG"
      },
      "execution_count": null,
      "outputs": []
    },
    {
      "cell_type": "markdown",
      "source": [
        "Melhoria de **visualização**"
      ],
      "metadata": {
        "id": "XmANUJXz63Ed"
      }
    }
  ]
}